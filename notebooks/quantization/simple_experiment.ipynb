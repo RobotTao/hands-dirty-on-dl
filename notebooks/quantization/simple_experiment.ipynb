{
 "cells": [
  {
   "cell_type": "markdown",
   "id": "dba3cf27",
   "metadata": {},
   "source": [
    "# Learn quantization with hands on"
   ]
  },
  {
   "cell_type": "markdown",
   "id": "7eac2173",
   "metadata": {},
   "source": [
    "## Asymmetric Quantization\n",
    "非对称量化\n",
    "  ![alt text](resources/asym_quant.png \"Title\")"
   ]
  },
  {
   "cell_type": "code",
   "execution_count": 1,
   "id": "ca246819",
   "metadata": {},
   "outputs": [],
   "source": [
    "import torch\n",
    "from torch import Tensor"
   ]
  },
  {
   "cell_type": "code",
   "execution_count": 2,
   "id": "c78ecf9e",
   "metadata": {},
   "outputs": [],
   "source": [
    "def linear_q_with_scale_and_zero_points(\n",
    "    tensor: Tensor, scale, zero_point, dtype=torch.int8\n",
    ") -> Tensor:\n",
    "    \"\"\"\n",
    "    Quantizes a tensor using the provided scale and zero point.\n",
    "\n",
    "    Args:\n",
    "        tensor (Tensor): The input tensor to quantize.\n",
    "        scale (float): The scale factor for quantization.\n",
    "        zero_point (int): The zero point for quantization.\n",
    "        dtype (torch.dtype, optional): The desired data type of the output tensor. Defaults to torch.int8.\n",
    "    \"\"\"\n",
    "    scaled_and_shifted_tensor = tensor / scale + zero_point\n",
    "    rounded_tensor = torch.round(scaled_and_shifted_tensor)\n",
    "\n",
    "    qmin = torch.iinfo(dtype).min\n",
    "    qmax = torch.iinfo(dtype).max\n",
    "\n",
    "    return rounded_tensor.clamp(qmin, qmax).to(dtype)\n",
    "\n",
    "\n",
    "def get_q_scale_and_zero_point(tensor: Tensor, dtype=torch.int8) -> (float, int):\n",
    "    \"\"\"\n",
    "    Computes the scale and zero point for quantization.\n",
    "\n",
    "    Args:\n",
    "        tensor (Tensor): The input tensor to compute scale and zero point.\n",
    "        dtype (torch.dtype, optional): The desired data type of the output tensor. Defaults to torch.int8.\n",
    "\n",
    "    Returns:\n",
    "        tuple: A tuple containing the scale and zero point.\n",
    "    \"\"\"\n",
    "    qmin = torch.iinfo(dtype).min\n",
    "    qmax = torch.iinfo(dtype).max\n",
    "    min_val = tensor.min().item()\n",
    "    max_val = tensor.max().item()\n",
    "    if min_val == max_val:\n",
    "        # If all values are the same, we can set scale to value and zero point to 0\n",
    "        return min_val, 0\n",
    "\n",
    "    scale = (max_val - min_val) / (qmax - qmin)\n",
    "    zero_point = int(round(qmin - min_val / scale))\n",
    "    zero_point = max(qmin, min(zero_point, qmax))\n",
    "\n",
    "    return scale, zero_point\n",
    "\n",
    "\n",
    "def linear_quantization(tensor: Tensor, dtype=torch.int8):\n",
    "    \"\"\"\n",
    "    Quantizes a tensor to the specified data type using linear quantization.\n",
    "\n",
    "    Args:\n",
    "        tensor (Tensor): The input tensor to quantize.\n",
    "        dtype (torch.dtype, optional): The desired data type of the output tensor. Defaults to torch.int8.\n",
    "\n",
    "    Returns:\n",
    "        Tensor: The quantized tensor.\n",
    "    \"\"\"\n",
    "    scale, zero_point = get_q_scale_and_zero_point(tensor, dtype)\n",
    "    return (\n",
    "        linear_q_with_scale_and_zero_points(tensor, scale, zero_point, dtype),\n",
    "        scale,\n",
    "        zero_point,\n",
    "    )\n",
    "\n",
    "\n",
    "def linear_dequantization(quantized_tensor: Tensor, scale, zero_point) -> Tensor:\n",
    "    return scale * (quantized_tensor.float() - zero_point)"
   ]
  },
  {
   "cell_type": "code",
   "execution_count": 11,
   "id": "c31b0e8e",
   "metadata": {},
   "outputs": [
    {
     "name": "stdout",
     "output_type": "stream",
     "text": [
      "Scale: 0.07328061122520298, Zero Point: 31\n",
      "Original Tensor:\n",
      " tensor([[ -5.5340,  -6.4383,  -8.9854],\n",
      "        [ -0.9105, -11.6636,   7.0229],\n",
      "        [ -6.8562,  -3.9043,   1.1225]])\n",
      "Quantized Tensor:\n",
      " tensor([[ -45,  -57,  -92],\n",
      "        [  19, -128,  127],\n",
      "        [ -63,  -22,   46]], dtype=torch.int8)\n",
      "Dequantized Tensor:\n",
      " tensor([[ -5.5693,  -6.4487,  -9.0135],\n",
      "        [ -0.8794, -11.6516,   7.0349],\n",
      "        [ -6.8884,  -3.8839,   1.0992]])\n",
      "Error tensor([[-0.0353, -0.0104, -0.0281],\n",
      "        [ 0.0311,  0.0120,  0.0120],\n",
      "        [-0.0321,  0.0204, -0.0233]])\n",
      "Relative error:\n",
      " tensor([[ 0.0064,  0.0016,  0.0031],\n",
      "        [-0.0342, -0.0010,  0.0017],\n",
      "        [ 0.0047, -0.0052, -0.0207]])\n",
      "MSE:\n",
      " tensor(0.0006)\n"
     ]
    }
   ],
   "source": [
    "### a dummy tensor to test the implementation\n",
    "test_tensor = torch.randn(3, 3) * 10\n",
    "quatization_type = torch.int8\n",
    "quantized_tensor, scale, zero_point = linear_quantization(\n",
    "    test_tensor, dtype=quatization_type\n",
    ")\n",
    "print(f\"Scale: {scale}, Zero Point: {zero_point}\")\n",
    "print(\"Original Tensor:\\n\", test_tensor)\n",
    "print(\"Quantized Tensor:\\n\", quantized_tensor)\n",
    "dequantized_tensor = linear_dequantization(quantized_tensor, scale, zero_point)\n",
    "print(\"Dequantized Tensor:\\n\", dequantized_tensor)\n",
    "print(\"Error\", dequantized_tensor - test_tensor)\n",
    "print(\"Relative error:\\n\", (dequantized_tensor - test_tensor) / (test_tensor + 1e-9))\n",
    "print(\"MSE:\\n\", (dequantized_tensor - test_tensor).square().mean())"
   ]
  },
  {
   "cell_type": "code",
   "execution_count": null,
   "id": "f7c41626",
   "metadata": {},
   "outputs": [],
   "source": []
  },
  {
   "cell_type": "code",
   "execution_count": null,
   "id": "892acd42",
   "metadata": {},
   "outputs": [],
   "source": []
  },
  {
   "cell_type": "code",
   "execution_count": null,
   "id": "429d22b4",
   "metadata": {},
   "outputs": [],
   "source": []
  },
  {
   "cell_type": "code",
   "execution_count": null,
   "id": "0c8aa46b",
   "metadata": {},
   "outputs": [],
   "source": []
  },
  {
   "cell_type": "code",
   "execution_count": null,
   "id": "9a0a655e",
   "metadata": {},
   "outputs": [],
   "source": []
  }
 ],
 "metadata": {
  "kernelspec": {
   "display_name": "pytorch-cu124",
   "language": "python",
   "name": "python3"
  },
  "language_info": {
   "codemirror_mode": {
    "name": "ipython",
    "version": 3
   },
   "file_extension": ".py",
   "mimetype": "text/x-python",
   "name": "python",
   "nbconvert_exporter": "python",
   "pygments_lexer": "ipython3",
   "version": "3.11.11"
  }
 },
 "nbformat": 4,
 "nbformat_minor": 5
}
